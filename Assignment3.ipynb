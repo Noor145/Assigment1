{
 "cells": [
  {
   "cell_type": "code",
   "execution_count": 1,
   "metadata": {},
   "outputs": [
    {
     "name": "stdout",
     "output_type": "stream",
     "text": [
      "Enter your choice:\n",
      "1. Addition\n",
      "2. Subtraction\n",
      "3. Multiplication\n",
      "4. Division\n",
      "5. Power\n",
      "5\n",
      "Enter First Number:3\n",
      "Enter Second Number:2\n",
      "Power= 9\n"
     ]
    }
   ],
   "source": [
    "#make a calculator using python with addition, subtraction, multiplication, division and power\n",
    "print('Enter your choice:')\n",
    "print('1. Addition')\n",
    "print('2. Subtraction')\n",
    "print('3. Multiplication')\n",
    "print('4. Division')\n",
    "print('5. Power')\n",
    "choice=input()\n",
    "num1=input('Enter First Number:')\n",
    "num2=input('Enter Second Number:')\n",
    "num1=int(num1)\n",
    "num2=int(num2)\n",
    "choice=int(choice)\n",
    "if(choice==1):\n",
    "    print('Sum=',num1+num2)\n",
    "elif(choice==2):\n",
    "    print('Difference=',num1-num2)\n",
    "elif(choice==3):\n",
    "    print('Product=',num1*num2)\n",
    "elif(choice==4):\n",
    "    print('Quotient=',num1/num2)\n",
    "elif(choice==5):\n",
    "    print('Power=',num1**num2)\n",
    "else:\n",
    "    print('Wrong Option')\n"
   ]
  },
  {
   "cell_type": "code",
   "execution_count": 6,
   "metadata": {},
   "outputs": [
    {
     "name": "stdout",
     "output_type": "stream",
     "text": [
      "Numeric values are present in the list\n"
     ]
    }
   ],
   "source": [
    "#Write a program to check if there is any numeric value in the list using for loop\n",
    "mylist=[\"Sam\",\"Red\",23,7,3.142,False]\n",
    "c=0\n",
    "for item in mylist:\n",
    "    if(type(item)==int or type(item)==float):\n",
    "        c=c+1;\n",
    "if(c!=0):\n",
    "        print('Numeric values are present in the list')\n",
    "else:\n",
    "        print('THere are no numerical values in the list')"
   ]
  },
  {
   "cell_type": "code",
   "execution_count": 20,
   "metadata": {},
   "outputs": [
    {
     "name": "stdout",
     "output_type": "stream",
     "text": [
      "{'First Name': 'Martin', 'Last Name': 'Kirk', 'Age': 30}\n"
     ]
    }
   ],
   "source": [
    "#Write Python Script to add key to a dictionary\n",
    "dict={\n",
    "    \"First Name\":\"Martin\",\n",
    "    \"Last Name\":\"Kirk\"}\n",
    "dict['Age']=30\n",
    "print(dic)"
   ]
  },
  {
   "cell_type": "code",
   "execution_count": 21,
   "metadata": {},
   "outputs": [
    {
     "name": "stdout",
     "output_type": "stream",
     "text": [
      "Sum of numeric items in dictionary: 26.142\n"
     ]
    }
   ],
   "source": [
    "#Write Python program to sum all numeric items in a dictionary\n",
    "d={\n",
    "    \"X\":1,\n",
    "    \"Y\":3.142,\n",
    "    \"Z\":22,\n",
    "    \"P\":\"ABC\"\n",
    "}\n",
    "sum = 0\n",
    "for key in d:\n",
    "    if(type(d[key])==int or type(d[key])==float):\n",
    "        sum=sum+d[key];\n",
    "print(\"Sum of numeric items in dictionary:\",sum)\n",
    "        "
   ]
  },
  {
   "cell_type": "code",
   "execution_count": 19,
   "metadata": {},
   "outputs": [
    {
     "name": "stdout",
     "output_type": "stream",
     "text": [
      "['ABC', 2, 6, 3.3, True, 2]\n",
      "Enter any item of your list  2\n",
      "This item is redundant\n"
     ]
    }
   ],
   "source": [
    "#Write a program to identify duplicate values from list\n",
    "mylist=[\"ABC\",2,6,3.3,True,2]\n",
    "print(mylist)\n",
    "u=input(\"Enter any item of your list  \")\n",
    "check=mylist.count(u)\n",
    "if(check!=1):\n",
    "    print(\"This item is redundant\")\n",
    "else:\n",
    "    print(\"This item is not redundant\")"
   ]
  },
  {
   "cell_type": "code",
   "execution_count": 26,
   "metadata": {},
   "outputs": [
    {
     "name": "stdout",
     "output_type": "stream",
     "text": [
      "Enter Key you want to add:Age\n",
      "Enter value:44\n",
      "This key already exists\n",
      "{'First Name': 'Martin', 'Last Name': 'Kirk', 'Age': 25}\n"
     ]
    }
   ],
   "source": [
    "#Write a python script to check if a given key already exist in a dictionary\n",
    "dict1={\n",
    "    \"First Name\":\"Martin\",\n",
    "    \"Last Name\":\"Kirk\",\n",
    "    \"Age\":25\n",
    "}\n",
    "u=input('Enter Key you want to add:')\n",
    "v=input(\"Enter value:\")\n",
    "if(u in dict1):\n",
    "    print(\"This key already exists\")\n",
    "else:\n",
    "    dict1[u]=v\n",
    "print(dict1)"
   ]
  },
  {
   "cell_type": "code",
   "execution_count": null,
   "metadata": {},
   "outputs": [],
   "source": []
  }
 ],
 "metadata": {
  "kernelspec": {
   "display_name": "Python 3",
   "language": "python",
   "name": "python3"
  },
  "language_info": {
   "codemirror_mode": {
    "name": "ipython",
    "version": 3
   },
   "file_extension": ".py",
   "mimetype": "text/x-python",
   "name": "python",
   "nbconvert_exporter": "python",
   "pygments_lexer": "ipython3",
   "version": "3.7.4"
  }
 },
 "nbformat": 4,
 "nbformat_minor": 2
}
