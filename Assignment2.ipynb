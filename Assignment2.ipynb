{
 "cells": [
  {
   "cell_type": "code",
   "execution_count": 1,
   "metadata": {},
   "outputs": [
    {
     "name": "stdout",
     "output_type": "stream",
     "text": [
      "Enter your marks out of 100 in the following subjects:\n",
      "Enter the marks of chemistry:65\n",
      "Enter the marks of Physics:78\n",
      "Enter the marks of English:77\n",
      "Enter the marks of Computer Studies:98\n",
      "Enter the marks of Mathematics:99\n",
      "You got A-1 grade\n"
     ]
    }
   ],
   "source": [
    "total=500\n",
    "print('Enter your marks out of 100 in the following subjects:')\n",
    "chem=input('Enter the marks of chemistry:')\n",
    "phy=input('Enter the marks of Physics:')\n",
    "eng=input('Enter the marks of English:')\n",
    "comp=input('Enter the marks of Computer Studies:')\n",
    "math=input('Enter the marks of Mathematics:')\n",
    "obt=int(chem)+int(phy)+int(eng)+int(comp)+int(math)\n",
    "per=(obt/total)*100\n",
    "if(obt<=500):\n",
    "    if(per>=80 and per<=100):\n",
    "        print('You got A-1 grade')\n",
    "    elif(per>=70 and per<=79):\n",
    "         print('You got A grade')\n",
    "    elif(per>=60 and per<=69):\n",
    "         print('You got B grade')\n",
    "    elif(per>=50 and per<=59):\n",
    "         print('You got C grade') \n",
    "    else:\n",
    "        print('Keep it Up')\n",
    "else:\n",
    "    print('inappropriate marks')"
   ]
  },
  {
   "cell_type": "code",
   "execution_count": 4,
   "metadata": {},
   "outputs": [
    {
     "name": "stdout",
     "output_type": "stream",
     "text": [
      "Enter any number to check whether the number is odd or even:5\n",
      "5  is an odd number\n"
     ]
    }
   ],
   "source": [
    "x=input('Enter any number to check whether the number is odd or even:')\n",
    "mod=int(x)%2\n",
    "if(mod==0):\n",
    "    print(x,' is an even number')\n",
    "else:\n",
    "    print(x,' is an odd number')\n",
    "    "
   ]
  },
  {
   "cell_type": "code",
   "execution_count": 5,
   "metadata": {},
   "outputs": [
    {
     "name": "stdout",
     "output_type": "stream",
     "text": [
      "4\n"
     ]
    }
   ],
   "source": [
    "arr=[\"ABC\",5,3.142,\"BLue\"]\n",
    "print(len(arr))\n"
   ]
  },
  {
   "cell_type": "code",
   "execution_count": 11,
   "metadata": {},
   "outputs": [
    {
     "name": "stdout",
     "output_type": "stream",
     "text": [
      "['ABC', 5, 3.142, 'BLue']\n"
     ]
    }
   ],
   "source": [
    "print(arr)\n"
   ]
  },
  {
   "cell_type": "code",
   "execution_count": 23,
   "metadata": {},
   "outputs": [
    {
     "name": "stdout",
     "output_type": "stream",
     "text": [
      "[5, 3.142]\n"
     ]
    }
   ],
   "source": [
    "arr.remove(\"ABC\")\n",
    "arr.remove(\"BLue\")\n",
    "print(arr)"
   ]
  },
  {
   "cell_type": "code",
   "execution_count": 24,
   "metadata": {},
   "outputs": [
    {
     "name": "stdout",
     "output_type": "stream",
     "text": [
      "8.142\n"
     ]
    }
   ],
   "source": [
    "y=sum(arr)\n",
    "print(y)"
   ]
  },
  {
   "cell_type": "code",
   "execution_count": 25,
   "metadata": {},
   "outputs": [
    {
     "name": "stdout",
     "output_type": "stream",
     "text": [
      "5\n"
     ]
    }
   ],
   "source": [
    "print(max(arr))"
   ]
  },
  {
   "cell_type": "code",
   "execution_count": 30,
   "metadata": {},
   "outputs": [
    {
     "name": "stdout",
     "output_type": "stream",
     "text": [
      "[1, 1, 2, 3]\n"
     ]
    }
   ],
   "source": [
    "a = [1, 1, 2, 3, 5, 8, 13, 21, 34, 55, 89]\n",
    "a2=[]\n",
    "for i in a:\n",
    "    if (i<5):\n",
    "        a2.append(i)\n",
    "print(a2)"
   ]
  },
  {
   "cell_type": "code",
   "execution_count": null,
   "metadata": {},
   "outputs": [],
   "source": []
  }
 ],
 "metadata": {
  "kernelspec": {
   "display_name": "Python 3",
   "language": "python",
   "name": "python3"
  },
  "language_info": {
   "codemirror_mode": {
    "name": "ipython",
    "version": 3
   },
   "file_extension": ".py",
   "mimetype": "text/x-python",
   "name": "python",
   "nbconvert_exporter": "python",
   "pygments_lexer": "ipython3",
   "version": "3.7.4"
  }
 },
 "nbformat": 4,
 "nbformat_minor": 2
}
