{
 "cells": [
  {
   "cell_type": "code",
   "execution_count": 2,
   "metadata": {},
   "outputs": [
    {
     "name": "stdout",
     "output_type": "stream",
     "text": [
      "first_Name:David\n",
      "last_Name:Brown\n",
      "age:40\n",
      "city:Berlin\n",
      "qualification:A-level\n",
      "Update your qualification:Ph.D\n",
      "\n",
      "first_Name:David\n",
      "last_Name:Brown\n",
      "age:40\n",
      "city:Berlin\n",
      "qualification:Ph.D\n"
     ]
    }
   ],
   "source": [
    "#Use a dictionary to store information about a person you know. \n",
    "#Store their first name, last name, age, and the city in which they live. \n",
    "#You should have keys such as first_name, last_name, age, and city. \n",
    "#Print each piece of information stored in your dictionary. \n",
    "#Add a new key value pair about qualification then update the qualification value to high academic level then delete it.\n",
    "person={\n",
    "    \"first_Name\":\"David\",\n",
    "    \"last_Name\":\"Brown\",\n",
    "    \"age\":\"40\",\n",
    "    \"city\":\"Berlin\"\n",
    "}\n",
    "person['qualification']=\"A-level\"\n",
    "for kv in person:\n",
    "    print(kv+\":\"+person[kv])\n",
    "update=input(\"Update your qualification:\")\n",
    "print()\n",
    "person['qualification']=update\n",
    "for kv in person:\n",
    "    print(kv+\":\"+person[kv])\n"
   ]
  },
  {
   "cell_type": "code",
   "execution_count": 36,
   "metadata": {},
   "outputs": [
    {
     "name": "stdout",
     "output_type": "stream",
     "text": [
      "Karachi:{'Country': 'Pakistan', 'Population': 15741000, 'Fact': 'Largest City of Pakistan'}\n",
      "Berlin:{'Country': 'Germany', 'Population': 3556792, 'Fact': 'Capital of Germany'}\n",
      "Melbourne:{'Country': 'Austrailia', 'Population': '4.8 million', 'Fact': 'Second most populous city in Australia.'}\n"
     ]
    }
   ],
   "source": [
    "#Make a dictionary called cities. Use the names of three cities as keys in your dictionary.\n",
    "#Create a dictionary of information about each city and include the country that the city is in,\n",
    "#its approximate population, and one fact about that city. \n",
    "#The keys for each city’s dictionary should be something like country, population, and fact. \n",
    "#Print the name of each city and all of the information you have stored about it.\n",
    "cities={\n",
    "    \"Karachi\":{\n",
    "        \"Country\":\"Pakistan\",\n",
    "        \"Population\":15741000,\n",
    "        \"Fact\":\"Largest City of Pakistan\"\n",
    "        \n",
    "    },\n",
    "    \"Berlin\":{\n",
    "        \"Country\":\"Germany\",\n",
    "        \"Population\":3556792,\n",
    "        \"Fact\":\"Capital of Germany\"\n",
    "        \n",
    "\n",
    "    },\n",
    "    \"Melbourne\":{\n",
    "        \"Country\":\"Austrailia\",\n",
    "        \"Population\":\"4.8 million\",\n",
    "        \"Fact\":\"Second most populous city in Australia.\"\n",
    "    }\n",
    "}\n",
    "for info in cities:\n",
    "      print(info+\":\"+str(cities[info]))\n",
    "        "
   ]
  },
  {
   "cell_type": "code",
   "execution_count": 41,
   "metadata": {},
   "outputs": [
    {
     "name": "stdout",
     "output_type": "stream",
     "text": [
      "HelloWorld is my favorite book\n"
     ]
    }
   ],
   "source": [
    "#Write a function called favorite_book() that accepts one parameter, title. \n",
    "#The function should print a message, such as One of my favorite books is Alice in Wonderland.\n",
    "#Call the function, making sure to include a book title as an argument in the function call.\n",
    "def favorite_book(param):\n",
    "    print(param + \" is my favorite book\")\n",
    "favorite_book(\"HelloWorld\")"
   ]
  },
  {
   "cell_type": "code",
   "execution_count": 4,
   "metadata": {},
   "outputs": [
    {
     "name": "stdout",
     "output_type": "stream",
     "text": [
      "\n",
      "Enter 'Exit' when you are finished.\n",
      "Please enter your age: 55\n",
      "Your ticket is of $15\n",
      "\n",
      "Enter 'Exit' when you are finished.\n",
      "Please enter your age: 3\n",
      "Your ticket is free\n",
      "\n",
      "Enter 'Exit' when you are finished.\n",
      "Please enter your age: 4\n",
      "Your ticket is of $10\n",
      "\n",
      "Enter 'Exit' when you are finished.\n",
      "Please enter your age: Exit\n"
     ]
    },
    {
     "ename": "ValueError",
     "evalue": "invalid literal for int() with base 10: 'Exit'",
     "output_type": "error",
     "traceback": [
      "\u001b[1;31m---------------------------------------------------------------------------\u001b[0m",
      "\u001b[1;31mValueError\u001b[0m                                Traceback (most recent call last)",
      "\u001b[1;32m<ipython-input-4-c4a1195c1426>\u001b[0m in \u001b[0;36m<module>\u001b[1;34m\u001b[0m\n\u001b[0;32m     10\u001b[0m \u001b[1;32mwhile\u001b[0m \u001b[1;32mTrue\u001b[0m\u001b[1;33m:\u001b[0m\u001b[1;33m\u001b[0m\u001b[1;33m\u001b[0m\u001b[0m\n\u001b[0;32m     11\u001b[0m     \u001b[0mage\u001b[0m \u001b[1;33m=\u001b[0m \u001b[0minput\u001b[0m\u001b[1;33m(\u001b[0m\u001b[0mprompt\u001b[0m\u001b[1;33m)\u001b[0m\u001b[1;33m\u001b[0m\u001b[1;33m\u001b[0m\u001b[0m\n\u001b[1;32m---> 12\u001b[1;33m     \u001b[0mage\u001b[0m \u001b[1;33m=\u001b[0m \u001b[0mint\u001b[0m\u001b[1;33m(\u001b[0m\u001b[0mage\u001b[0m\u001b[1;33m)\u001b[0m\u001b[1;33m\u001b[0m\u001b[1;33m\u001b[0m\u001b[0m\n\u001b[0m\u001b[0;32m     13\u001b[0m \u001b[1;33m\u001b[0m\u001b[0m\n\u001b[0;32m     14\u001b[0m     \u001b[1;32mif\u001b[0m \u001b[0mage\u001b[0m \u001b[1;33m==\u001b[0m \u001b[1;34m'Exit'\u001b[0m\u001b[1;33m:\u001b[0m\u001b[1;33m\u001b[0m\u001b[1;33m\u001b[0m\u001b[0m\n",
      "\u001b[1;31mValueError\u001b[0m: invalid literal for int() with base 10: 'Exit'"
     ]
    }
   ],
   "source": [
    "#A movie theater charges different ticket prices depending on a person’s age. \n",
    "#If a person is under the age of 3, the ticket is free; if they are between 3 and 12, the ticket is $10; \n",
    "#and if they are over age 12, the ticket is $15. \n",
    "#Write a loop in which you ask users their age, and then tell them the cost of their movie ticket.\n",
    "\n",
    "prompt = \"\\nEnter 'Exit' when you are finished.\"\n",
    "prompt += \"\\nPlease enter your age: \"\n",
    "\n",
    "\n",
    "while True:\n",
    "    age = input(prompt)\n",
    "    age = int(age)\n",
    "\n",
    "    if age == 'Exit':\n",
    "        break\n",
    "    elif age <= 3:\n",
    "        print(\"Your ticket is free\")\n",
    "    elif age <= 10:\n",
    "        print(\"Your ticket is of $10\")\n",
    "    else:\n",
    "        print(\"Your ticket is of $15\")"
   ]
  },
  {
   "cell_type": "code",
   "execution_count": 7,
   "metadata": {},
   "outputs": [
    {
     "name": "stdout",
     "output_type": "stream",
     "text": [
      "Enter any number between 1 to 30 to find out actual number\n",
      "Take a guess.\n",
      "23\n",
      "Your guess is too high.\n",
      "Take a guess.\n",
      "21\n",
      "Your guess is too high.\n",
      "Take a guess.\n",
      "5\n",
      "Your guess is too low.\n",
      "Sorry!!!!!!!!!!!All wrong choices \n"
     ]
    }
   ],
   "source": [
    "#Write a program which randomly generate a number between 1 to 30 and ask the user in input field to guess the correct number.\n",
    "#Give three chances to user guess the number and also give hint to user \n",
    "#if hidden number is greater or smaller than the number he given to input field.\n",
    "\n",
    "import random\n",
    "choice = 0\n",
    "number = random.randint(1, 30)\n",
    "print('Enter any number between 1 to 30 to find out actual number')\n",
    "while choice < 3:\n",
    "    print('Take a guess.') \n",
    "    guess = input()\n",
    "    guess = int(guess)\n",
    "    choice = choice + 1\n",
    "    if guess < number:\n",
    "        print('Your guess is too low.') \n",
    "    if guess > number:\n",
    "        print('Your guess is too high.')\n",
    "    if guess == number:\n",
    "        break \n",
    "if guess == number:\n",
    "    choice = str(choice)\n",
    "    print('You Won')\n",
    "if guess != number:\n",
    "    number = str(number)\n",
    "    print('Sorry!!!!!!!!!!!All wrong choices ')"
   ]
  },
  {
   "cell_type": "code",
   "execution_count": null,
   "metadata": {},
   "outputs": [],
   "source": []
  }
 ],
 "metadata": {
  "kernelspec": {
   "display_name": "Python 3",
   "language": "python",
   "name": "python3"
  },
  "language_info": {
   "codemirror_mode": {
    "name": "ipython",
    "version": 3
   },
   "file_extension": ".py",
   "mimetype": "text/x-python",
   "name": "python",
   "nbconvert_exporter": "python",
   "pygments_lexer": "ipython3",
   "version": "3.7.4"
  }
 },
 "nbformat": 4,
 "nbformat_minor": 2
}
