{
 "cells": [
  {
   "cell_type": "code",
   "execution_count": 4,
   "metadata": {},
   "outputs": [
    {
     "name": "stdout",
     "output_type": "stream",
     "text": [
      "Enter any positve number:4\n",
      "Factorial of 4 is  24\n"
     ]
    }
   ],
   "source": [
    "#Write a Python function to calculate the factorial of a number (a non-negative integer). \n",
    "#The function accepts the number as an argument.\n",
    "def fact(param):\n",
    "    if(param == 1 or param == 0):\n",
    "        return 1\n",
    "    else:\n",
    "        return param * (fact(param-1))\n",
    "n=int(input('Enter any positve number:')) \n",
    "x=fact(n)\n",
    "print('Factorial of',n,'is ',x)"
   ]
  },
  {
   "cell_type": "code",
   "execution_count": 2,
   "metadata": {},
   "outputs": [
    {
     "name": "stdout",
     "output_type": "stream",
     "text": [
      "Enter any english sentence:Happy Birthday\n",
      "Happy Birthday\n",
      "Capital Letters:  2\n",
      "Small Letters:  11\n"
     ]
    }
   ],
   "source": [
    "#Write a Python function that accepts a string and calculate the number of upper case letters and lower case letters.\n",
    "def countul(s):\n",
    "    letter={\n",
    "        \"up\":0, \n",
    "        \"lr\":0\n",
    "      }\n",
    "    for c in s:\n",
    "        if c.isupper():\n",
    "           letter[\"up\"]+=1\n",
    "        if c.islower():\n",
    "           letter[\"lr\"]+=1\n",
    "       # else:\n",
    "          # pass\n",
    "    print (s)\n",
    "    print (\"Capital Letters: \", letter[\"up\"])\n",
    "    print (\"Small Letters: \", letter[\"lr\"])\n",
    "t=input(\"Enter any english sentence:\")\n",
    "countul(t)\n"
   ]
  },
  {
   "cell_type": "code",
   "execution_count": 6,
   "metadata": {},
   "outputs": [
    {
     "name": "stdout",
     "output_type": "stream",
     "text": [
      "2\n",
      "4\n",
      "6\n",
      "8\n"
     ]
    }
   ],
   "source": [
    "#Write a Python function to print the even numbers from a given list\n",
    "def feven(*param):\n",
    "    for n in param:\n",
    "        if(n%2==0):\n",
    "            print(n)\n",
    "feven(2,5,4,6,7,8)"
   ]
  },
  {
   "cell_type": "code",
   "execution_count": 15,
   "metadata": {},
   "outputs": [
    {
     "name": "stdout",
     "output_type": "stream",
     "text": [
      "Enter any wordSOS\n",
      "Entered word is palindrome\n"
     ]
    }
   ],
   "source": [
    "#Write a Python function that checks whether a passed string is palindrome or not. \n",
    "#Note: A palindrome is a word, phrase, or sequence that reads the same backward as forward, e.g., madam \n",
    "def checkback(string):\n",
    "    left = 0\n",
    "    right = len(string) - 1\n",
    "\n",
    "    while right >= left:\n",
    "        if string[left] != string[right]:\n",
    "            return False\n",
    "        left += 1\n",
    "        right -= 1\n",
    "    return True\n",
    "n=checkback(input('Enter any word'))\n",
    "#checkback(n)\n",
    "if(n == True):\n",
    "    print('Entered word is palindrome')\n",
    "else:\n",
    "    print('Entered word is not palindrome')"
   ]
  },
  {
   "cell_type": "code",
   "execution_count": 14,
   "metadata": {},
   "outputs": [
    {
     "name": "stdout",
     "output_type": "stream",
     "text": [
      "Enter any number:6\n",
      "6 is not a prime number\n"
     ]
    }
   ],
   "source": [
    "#Write a Python function that takes a number as a parameter and check the number is prime or not.\n",
    "def fprime(n):\n",
    "    k=0\n",
    "    for i in range(1,n+1):\n",
    "        if(n%i==0):\n",
    "            k=k+1\n",
    "    if(k==2):\n",
    "        print(n,\"is a prime number\")\n",
    "    else:\n",
    "        print(n,'is not a prime number')\n",
    "a=int(input('Enter any number:'))\n",
    "fprime(a)"
   ]
  },
  {
   "cell_type": "code",
   "execution_count": 8,
   "metadata": {},
   "outputs": [
    {
     "name": "stdout",
     "output_type": "stream",
     "text": [
      "Enter number of items you'll buy 4\n",
      "Enter item:Dress\n",
      "Enter item:watch\n",
      "Enter item:candle\n",
      "Enter item:honey\n",
      "['Dress', 'watch', 'candle', 'honey']\n"
     ]
    }
   ],
   "source": [
    "#Suppose a customer is shopping in a market and you need to print all the items which user bought from market. \n",
    "#Write a function which accepts the multiple arguments of user shopping list and print all the items \n",
    "#which user bought from market.\n",
    "def calitems(*s):\n",
    "    for c in s:\n",
    "        print(c)\n",
    "        \n",
    "list=[]\n",
    "n=int(input('Enter number of items you\\'ll buy'))\n",
    "for i in range(0,n):\n",
    "    items=input('Enter item:')\n",
    "    list.append(items)\n",
    "calitems(list)\n"
   ]
  }
 ],
 "metadata": {
  "kernelspec": {
   "display_name": "Python 3",
   "language": "python",
   "name": "python3"
  },
  "language_info": {
   "codemirror_mode": {
    "name": "ipython",
    "version": 3
   },
   "file_extension": ".py",
   "mimetype": "text/x-python",
   "name": "python",
   "nbconvert_exporter": "python",
   "pygments_lexer": "ipython3",
   "version": "3.7.4"
  }
 },
 "nbformat": 4,
 "nbformat_minor": 2
}
